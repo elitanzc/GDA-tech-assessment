{
 "cells": [
  {
   "cell_type": "code",
   "execution_count": 1,
   "metadata": {},
   "outputs": [],
   "source": [
    "import pymongo\n",
    "from pymongo import MongoClient\n",
    "import pandas as pd\n",
    "import json\n",
    "import datetime\n",
    "from datetime import datetime\n",
    "from pandas import read_excel"
   ]
  },
  {
   "cell_type": "code",
   "execution_count": 2,
   "metadata": {},
   "outputs": [],
   "source": [
    "########## Saving json file from link ##########\n",
    "\n",
    "from urllib.request import urlopen\n",
    "\n",
    "url = \"https://raw.githubusercontent.com/Papagoat/brain-assessment/main/restaurant_data.json\"\n",
    "with urlopen(url) as source:\n",
    "    out = source.read()\n",
    "\n",
    "data = json.loads(out)\n",
    "\n",
    "with open(\"restaurant_data.json\", \"w\") as file:\n",
    "    merged = []\n",
    "    for i in range(len(data)):\n",
    "        # combine all results shown\n",
    "        merged.extend(data[i][\"restaurants\"])\n",
    "    json.dump(merged, file)"
   ]
  },
  {
   "cell_type": "code",
   "execution_count": 3,
   "metadata": {},
   "outputs": [],
   "source": [
    "mongodb = MongoClient('localhost', 27017)\n",
    "mongodb.drop_database('Restaurants')"
   ]
  },
  {
   "cell_type": "code",
   "execution_count": 4,
   "metadata": {},
   "outputs": [
    {
     "data": {
      "text/plain": [
       "<pymongo.results.InsertManyResult at 0x7fe883196c80>"
      ]
     },
     "execution_count": 4,
     "metadata": {},
     "output_type": "execute_result"
    }
   ],
   "source": [
    "########## Load data files & save as them collections of a database in mongodb ##########\n",
    "\n",
    "db = mongodb.Restaurants\n",
    "\n",
    "restaurant_data = json.load(open(\"restaurant_data.json\"))\n",
    "# create and populate collection\n",
    "res = db.restaurants\n",
    "res.insert_many(restaurant_data)\n",
    "\n",
    "country_code = read_excel(\"Country-Code.xlsx\")\n",
    "country_code = country_code.to_dict(orient='records')\n",
    "# create and populate collection\n",
    "ccode = db.countrycode\n",
    "ccode.insert_many(country_code)"
   ]
  },
  {
   "cell_type": "markdown",
   "metadata": {},
   "source": [
    "## 1. Generating restaurants.csv\n",
    "Extract fields:\n",
    "* Restaurant Id\n",
    "* Restaurant Name\n",
    "* Country\n",
    "* City\n",
    "* User Rating Votes\n",
    "* User Aggregate Rating (float)\n",
    "* Cuisines"
   ]
  },
  {
   "cell_type": "code",
   "execution_count": 5,
   "metadata": {},
   "outputs": [],
   "source": [
    "column_names = [\"Restaurant Id\", \"Restaurant Name\", \"Country\", \"City\", \n",
    "                \"User Rating Votes\", \"User Aggregate Rating\", \"Cuisines\"]\n",
    "\n",
    "restaurants_dict = dict(zip(column_names, [[] for i in range(len(column_names))]))\n",
    "\n",
    "# retrieve restaurant id\n",
    "restaurants_dict[\"Restaurant Id\"] = res.distinct(\"restaurant.R.res_id\")\n",
    "# map restaurant id to other fields\n",
    "for id in restaurants_dict[\"Restaurant Id\"]:\n",
    "    out = res.find_one({\"restaurant.R.res_id\":id}, {\"_id\":0,\"restaurant.name\":1, \n",
    "                        \"restaurant.location.country_id\":1, \"restaurant.location.city\":1, \n",
    "                        \"restaurant.user_rating.votes\":1, \"restaurant.user_rating.aggregate_rating\":1, \n",
    "                        \"restaurant.cuisines\":1, })['restaurant']\n",
    "    restaurants_dict[\"Restaurant Name\"].append(out[\"name\"])\n",
    "    country_id = out[\"location\"][\"country_id\"]\n",
    "    try:\n",
    "        country = ccode.find_one({\"Country Code\":country_id}, {\"_id\":0, \"Country\":1})[\"Country\"]\n",
    "    except:\n",
    "        country = \"NA\"\n",
    "    restaurants_dict[\"Country\"].append(country)\n",
    "    restaurants_dict[\"City\"].append(out[\"location\"][\"city\"])\n",
    "    restaurants_dict[\"User Rating Votes\"].append(int(out[\"user_rating\"][\"votes\"]))\n",
    "    restaurants_dict[\"User Aggregate Rating\"].append(float(out[\"user_rating\"][\"aggregate_rating\"]))\n",
    "    restaurants_dict[\"Cuisines\"].append(out[\"cuisines\"])"
   ]
  },
  {
   "cell_type": "code",
   "execution_count": 6,
   "metadata": {},
   "outputs": [],
   "source": [
    "# convert to dataframe\n",
    "df1 = pd.DataFrame(restaurants_dict)"
   ]
  },
  {
   "cell_type": "code",
   "execution_count": 7,
   "metadata": {},
   "outputs": [],
   "source": [
    "# save as csv locally\n",
    "df1.to_csv(\"restaurants.csv\")"
   ]
  },
  {
   "cell_type": "markdown",
   "metadata": {},
   "source": [
    "## 2. Generating restaurant_events.csv\n",
    "Extract fields (start <= April 2019 <= end):\n",
    "* Event Id\n",
    "* Restaurant Id\n",
    "* Restaurant Name\n",
    "* Photo URL\n",
    "* Event Title\n",
    "* Event Start Date\n",
    "* Event End Date"
   ]
  },
  {
   "cell_type": "code",
   "execution_count": 8,
   "metadata": {},
   "outputs": [],
   "source": [
    "# filter events that happened in April 2019\n",
    "out = res.find({\n",
    "    \"$and\":[\n",
    "        {\"restaurant.zomato_events.event.start_date\":{\"$lte\":'2019-04'}}, \n",
    "        {\"restaurant.zomato_events.event.end_date\":{\"$gte\":'2019-04'}}\n",
    "    ]\n",
    "}, {\"_id\":0, \"restaurant.R.res_id\":1, \"restaurant.name\":1, \"restaurant.zomato_events.event.event_id\":1, \n",
    "\"restaurant.zomato_events.event.photos\":1, \"restaurant.zomato_events.event.title\":1, \n",
    "\"restaurant.zomato_events.event.start_date\":1, \"restaurant.zomato_events.event.end_date\":1})"
   ]
  },
  {
   "cell_type": "markdown",
   "metadata": {},
   "source": [
    "## 3. Determine threshold for different rating text based on aggregate rating.\n",
    "Return aggregates for the following ratings only:\n",
    "* Excellent\n",
    "* Very Good\n",
    "* Good\n",
    "* Average\n",
    "* Poor"
   ]
  }
 ],
 "metadata": {
  "kernelspec": {
   "display_name": "Python 3.8.1 64-bit",
   "language": "python",
   "name": "python3"
  },
  "language_info": {
   "codemirror_mode": {
    "name": "ipython",
    "version": 3
   },
   "file_extension": ".py",
   "mimetype": "text/x-python",
   "name": "python",
   "nbconvert_exporter": "python",
   "pygments_lexer": "ipython3",
   "version": "3.8.1"
  },
  "orig_nbformat": 4,
  "vscode": {
   "interpreter": {
    "hash": "aee8b7b246df8f9039afb4144a1f6fd8d2ca17a180786b69acc140d282b71a49"
   }
  }
 },
 "nbformat": 4,
 "nbformat_minor": 2
}
